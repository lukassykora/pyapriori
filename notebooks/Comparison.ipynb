{
 "cells": [
  {
   "cell_type": "markdown",
   "id": "d1ce34c0",
   "metadata": {},
   "source": [
    "# Compare PyApriori with other Python packages"
   ]
  },
  {
   "cell_type": "markdown",
   "id": "410a748c",
   "metadata": {},
   "source": [
    "Packages:\n",
    "- mlxtend.frequent_patterns.apriori\n",
    "- PyFIM\n",
    "- apyori\n",
    "- pyapriori (this package)"
   ]
  },
  {
   "cell_type": "markdown",
   "id": "58ae2da3",
   "metadata": {},
   "source": [
    "Data:\n",
    "- accidents\n",
    "- connect\n",
    "- chess\n",
    "- mushroom\n",
    "\n",
    "Source: Frequent Itemset Mining Implementations Repository (http://fimi.uantwerpen.be/data/) "
   ]
  },
  {
   "cell_type": "markdown",
   "id": "590a7621",
   "metadata": {},
   "source": [
    "## Data Preparation"
   ]
  },
  {
   "cell_type": "code",
   "execution_count": 1,
   "id": "d08f4141",
   "metadata": {},
   "outputs": [],
   "source": [
    "import pandas as pd\n",
    "import csv\n",
    "from mlxtend.preprocessing import TransactionEncoder\n",
    "from scipy.sparse import csc_matrix\n",
    "from cupyx.scipy.sparse import csr_matrix as csr_matrix_cupy"
   ]
  },
  {
   "cell_type": "markdown",
   "id": "c473876b",
   "metadata": {},
   "source": [
    "Load datasets"
   ]
  },
  {
   "cell_type": "code",
   "execution_count": 2,
   "id": "f73d02c9",
   "metadata": {},
   "outputs": [],
   "source": [
    "def load_dataset(datafile):\n",
    "    dataset = [i.strip().split() for i in open(datafile).readlines()]\n",
    "    # Number of transactions\n",
    "    transactions_count = len(dataset)\n",
    "    # One Hot Encoding\n",
    "    te = TransactionEncoder()\n",
    "    te_dummies = te.fit(dataset).transform(dataset)\n",
    "    # Dataframe with One Hot Encoding\n",
    "    df = pd.DataFrame(te_dummies, columns=te.columns_)\n",
    "    # CSC Matrix with One Hot Encoding\n",
    "    dataset_csc = csc_matrix(te_dummies)\n",
    "    # Cupy CSC Matrix with One Hot Encoding\n",
    "    dataset_csr_cupy = csr_matrix_cupy(dataset_csc)\n",
    "    return df, dataset, dataset_csc, dataset_csr_cupy, transactions_count"
   ]
  },
  {
   "cell_type": "markdown",
   "id": "bc5a83fc",
   "metadata": {},
   "source": [
    "## Modeling"
   ]
  },
  {
   "cell_type": "code",
   "execution_count": 3,
   "id": "9b8caed6",
   "metadata": {},
   "outputs": [],
   "source": [
    "import time\n",
    "from mlxtend.frequent_patterns import apriori as mlxtend_apriori\n",
    "import fim\n",
    "from apyori import apriori as apyori_apriori\n",
    "from pyapriori import PyApriori\n",
    "from interruptingcow import timeout"
   ]
  },
  {
   "cell_type": "markdown",
   "id": "8caf8b2b",
   "metadata": {},
   "source": [
    "The model fit is killed in 30s."
   ]
  },
  {
   "cell_type": "code",
   "execution_count": 4,
   "id": "0f50ae15",
   "metadata": {},
   "outputs": [],
   "source": [
    "def run_models(minsup, df, dataset, dataset_csc, dataset_csr_cupy, transactions_count):\n",
    "    try:\n",
    "        start = time.time()\n",
    "        with timeout(30, exception=RuntimeError):\n",
    "            result = mlxtend_apriori(df, min_support=(minsup/100), use_colnames=True)\n",
    "        end = time.time()\n",
    "        mlxtend_t = end - start\n",
    "        mlxtend_count = result.shape[0]\n",
    "    except:\n",
    "        mlxtend_t = None\n",
    "        mlxtend_count = None\n",
    "    print('mlxtend Done in ' + str(mlxtend_t) + 's')\n",
    "    \n",
    "    try:\n",
    "        start = time.time()\n",
    "        with timeout(30, exception=RuntimeError):\n",
    "            result = fim.apriori(dataset, supp=minsup)\n",
    "        end = time.time()\n",
    "        fim_t = end - start\n",
    "        fim_count = len(result)  \n",
    "    except:\n",
    "        fim_t = None\n",
    "        fim_count = None \n",
    "    print('fim Done in ' + str(fim_t) + 's')    \n",
    "    \n",
    "    try:\n",
    "        start = time.time()\n",
    "        with timeout(30, exception=RuntimeError):\n",
    "            result = list(apyori_apriori(dataset, min_support=(minsup/100)))\n",
    "        end = time.time()\n",
    "        apyori_t = end - start\n",
    "        apyori_count = len(result)\n",
    "    except:\n",
    "        apyori_t = None\n",
    "        apyori_count = None\n",
    "    print('apyori Done in ' + str(apyori_t) + 's')      \n",
    "    \n",
    "    try:\n",
    "        start = time.time()\n",
    "        with timeout(30, exception=RuntimeError):\n",
    "            py_apriori = PyApriori(round(transactions_count * (minsup/100)), 1)\n",
    "            _, result = py_apriori.fit(dataset_csc)\n",
    "        end = time.time()\n",
    "        pyapriori_t = end - start\n",
    "        pyapriori_count = len(result)  \n",
    "    except:\n",
    "        pyapriori_t = None\n",
    "        pyapriori_count = None \n",
    "    print('pyapriori Done in ' + str(pyapriori_t) + 's')     \n",
    "    \n",
    "    try:\n",
    "        start = time.time()\n",
    "        with timeout(30, exception=RuntimeError):\n",
    "            py_apriori = PyApriori(round(transactions_count * (minsup/100)), 1)\n",
    "            _, result = py_apriori.fit(dataset_csr_cupy)\n",
    "        end = time.time()\n",
    "        pyapriori_cupy_t = end - start\n",
    "        pyapriori_cupy_count = len(result) \n",
    "    except:\n",
    "        pyapriori_cupy_t = None\n",
    "        pyapriori_cupy_count = None \n",
    "    print('pyapriori_cupy Done in ' + str(pyapriori_cupy_t) + 's')       \n",
    "    \n",
    "    return mlxtend_t, mlxtend_count, fim_t, fim_count, apyori_t, apyori_count, pyapriori_t, pyapriori_count, pyapriori_cupy_t, pyapriori_cupy_count"
   ]
  },
  {
   "cell_type": "markdown",
   "id": "5c0f299b",
   "metadata": {},
   "source": [
    "## Run test"
   ]
  },
  {
   "cell_type": "markdown",
   "id": "e6270d7b",
   "metadata": {},
   "source": [
    "Parameters"
   ]
  },
  {
   "cell_type": "code",
   "execution_count": 5,
   "id": "3f06c251",
   "metadata": {},
   "outputs": [],
   "source": [
    "supports = [50, 60, 70]\n",
    "datafiles = ['data/accidents.dat', 'data/chess.dat', 'data/mushroom.dat']"
   ]
  },
  {
   "cell_type": "markdown",
   "id": "baed3f1a",
   "metadata": {},
   "source": [
    "Test"
   ]
  },
  {
   "cell_type": "code",
   "execution_count": 6,
   "id": "5e91c107",
   "metadata": {},
   "outputs": [
    {
     "name": "stdout",
     "output_type": "stream",
     "text": [
      "(50, 'data/accidents.dat')\n",
      "mlxtend Done in Nones\n",
      "fim Done in 1.7701842784881592s\n",
      "apyori Done in Nones\n",
      "pyapriori Done in 12.699603080749512s\n",
      "pyapriori_cupy Done in Nones\n",
      "(50, 'data/chess.dat')\n",
      "mlxtend Done in Nones\n",
      "fim Done in 4.988152265548706s\n",
      "apyori Done in Nones\n",
      "pyapriori Done in 17.87687587738037s\n",
      "pyapriori_cupy Done in Nones\n",
      "(50, 'data/mushroom.dat')\n",
      "mlxtend Done in 0.015505313873291016s\n",
      "fim Done in 0.008368968963623047s\n",
      "apyori Done in 0.2870938777923584s\n",
      "pyapriori Done in 0.007236480712890625s\n",
      "pyapriori_cupy Done in 0.12891077995300293s\n",
      "(60, 'data/accidents.dat')\n",
      "mlxtend Done in Nones\n",
      "fim Done in 0.8005485534667969s\n",
      "apyori Done in Nones\n",
      "pyapriori Done in 3.9656777381896973s\n",
      "pyapriori_cupy Done in Nones\n",
      "(60, 'data/chess.dat')\n",
      "mlxtend Done in 20.4909188747406s\n",
      "fim Done in 0.8121564388275146s\n",
      "apyori Done in Nones\n",
      "pyapriori Done in 4.185920238494873s\n",
      "pyapriori_cupy Done in Nones\n",
      "(60, 'data/mushroom.dat')\n",
      "mlxtend Done in 0.005648612976074219s\n",
      "fim Done in 0.008081436157226562s\n",
      "apyori Done in 0.08979678153991699s\n",
      "pyapriori Done in 0.003824949264526367s\n",
      "pyapriori_cupy Done in 0.14917898178100586s\n",
      "(70, 'data/accidents.dat')\n",
      "mlxtend Done in 17.499571561813354s\n",
      "fim Done in 0.6380290985107422s\n",
      "apyori Done in Nones\n",
      "pyapriori Done in 1.2145700454711914s\n",
      "pyapriori_cupy Done in 11.643015384674072s\n",
      "(70, 'data/chess.dat')\n",
      "mlxtend Done in 3.2850046157836914s\n",
      "fim Done in 0.12344098091125488s\n",
      "apyori Done in Nones\n",
      "pyapriori Done in 0.907681941986084s\n",
      "pyapriori_cupy Done in 1.8404066562652588s\n",
      "(70, 'data/mushroom.dat')\n",
      "mlxtend Done in 0.004570484161376953s\n",
      "fim Done in 0.00803828239440918s\n",
      "apyori Done in 0.07371020317077637s\n",
      "pyapriori Done in 0.0028905868530273438s\n",
      "pyapriori_cupy Done in 0.11085629463195801s\n"
     ]
    }
   ],
   "source": [
    "test_result = {}\n",
    "for minsup in supports:\n",
    "    for datafile in datafiles:\n",
    "        print((minsup, datafile))\n",
    "        df, dataset, dataset_csc, dataset_csr_cupy, transactions_count = load_dataset(datafile)\n",
    "        mlxtend_t, mlxtend_count, fim_t, fim_count, apyori_t, apyori_count, pyapriori_t, pyapriori_count, pyapriori_cupy_t, pyapriori_cupy_count = run_models(minsup, df, dataset, dataset_csc, dataset_csr_cupy, transactions_count)\n",
    "        test_result[(minsup, datafile)] = {'mlxtend_t': mlxtend_t, 'mlxtend_count':mlxtend_count, 'fim_t':fim_t, 'fim_count':fim_count, 'apyori_t':apyori_t, 'apyori_count':apyori_count, 'pyapriori_t':pyapriori_t, 'pyapriori_count':pyapriori_count, 'pyapriori_cupy_t':pyapriori_cupy_t, 'pyapriori_cupy_count':pyapriori_cupy_count}"
   ]
  },
  {
   "cell_type": "markdown",
   "id": "1e79fd0d",
   "metadata": {},
   "source": [
    "Results"
   ]
  },
  {
   "cell_type": "code",
   "execution_count": 7,
   "id": "68a0de1d",
   "metadata": {},
   "outputs": [
    {
     "data": {
      "text/plain": [
       "{(50, 'data/accidents.dat'): {'mlxtend_t': None,\n",
       "  'mlxtend_count': None,\n",
       "  'fim_t': 1.7701842784881592,\n",
       "  'fim_count': 8057,\n",
       "  'apyori_t': None,\n",
       "  'apyori_count': None,\n",
       "  'pyapriori_t': 12.699603080749512,\n",
       "  'pyapriori_count': 8057,\n",
       "  'pyapriori_cupy_t': None,\n",
       "  'pyapriori_cupy_count': None},\n",
       " (50, 'data/chess.dat'): {'mlxtend_t': None,\n",
       "  'mlxtend_count': None,\n",
       "  'fim_t': 4.988152265548706,\n",
       "  'fim_count': 1272932,\n",
       "  'apyori_t': None,\n",
       "  'apyori_count': None,\n",
       "  'pyapriori_t': 17.87687587738037,\n",
       "  'pyapriori_count': 1272932,\n",
       "  'pyapriori_cupy_t': None,\n",
       "  'pyapriori_cupy_count': None},\n",
       " (50, 'data/mushroom.dat'): {'mlxtend_t': 0.015505313873291016,\n",
       "  'mlxtend_count': 153,\n",
       "  'fim_t': 0.008368968963623047,\n",
       "  'fim_count': 152,\n",
       "  'apyori_t': 0.2870938777923584,\n",
       "  'apyori_count': 153,\n",
       "  'pyapriori_t': 0.007236480712890625,\n",
       "  'pyapriori_count': 153,\n",
       "  'pyapriori_cupy_t': 0.12891077995300293,\n",
       "  'pyapriori_cupy_count': 153},\n",
       " (60, 'data/accidents.dat'): {'mlxtend_t': None,\n",
       "  'mlxtend_count': None,\n",
       "  'fim_t': 0.8005485534667969,\n",
       "  'fim_count': 2074,\n",
       "  'apyori_t': None,\n",
       "  'apyori_count': None,\n",
       "  'pyapriori_t': 3.9656777381896973,\n",
       "  'pyapriori_count': 2074,\n",
       "  'pyapriori_cupy_t': None,\n",
       "  'pyapriori_cupy_count': None},\n",
       " (60, 'data/chess.dat'): {'mlxtend_t': 20.4909188747406,\n",
       "  'mlxtend_count': 254944,\n",
       "  'fim_t': 0.8121564388275146,\n",
       "  'fim_count': 254944,\n",
       "  'apyori_t': None,\n",
       "  'apyori_count': None,\n",
       "  'pyapriori_t': 4.185920238494873,\n",
       "  'pyapriori_count': 254944,\n",
       "  'pyapriori_cupy_t': None,\n",
       "  'pyapriori_cupy_count': None},\n",
       " (60, 'data/mushroom.dat'): {'mlxtend_t': 0.005648612976074219,\n",
       "  'mlxtend_count': 51,\n",
       "  'fim_t': 0.008081436157226562,\n",
       "  'fim_count': 50,\n",
       "  'apyori_t': 0.08979678153991699,\n",
       "  'apyori_count': 51,\n",
       "  'pyapriori_t': 0.003824949264526367,\n",
       "  'pyapriori_count': 51,\n",
       "  'pyapriori_cupy_t': 0.14917898178100586,\n",
       "  'pyapriori_cupy_count': 51},\n",
       " (70, 'data/accidents.dat'): {'mlxtend_t': 17.499571561813354,\n",
       "  'mlxtend_count': 529,\n",
       "  'fim_t': 0.6380290985107422,\n",
       "  'fim_count': 529,\n",
       "  'apyori_t': None,\n",
       "  'apyori_count': None,\n",
       "  'pyapriori_t': 1.2145700454711914,\n",
       "  'pyapriori_count': 529,\n",
       "  'pyapriori_cupy_t': 11.643015384674072,\n",
       "  'pyapriori_cupy_count': 529},\n",
       " (70, 'data/chess.dat'): {'mlxtend_t': 3.2850046157836914,\n",
       "  'mlxtend_count': 48731,\n",
       "  'fim_t': 0.12344098091125488,\n",
       "  'fim_count': 48731,\n",
       "  'apyori_t': None,\n",
       "  'apyori_count': None,\n",
       "  'pyapriori_t': 0.907681941986084,\n",
       "  'pyapriori_count': 48969,\n",
       "  'pyapriori_cupy_t': 1.8404066562652588,\n",
       "  'pyapriori_cupy_count': 48969},\n",
       " (70, 'data/mushroom.dat'): {'mlxtend_t': 0.004570484161376953,\n",
       "  'mlxtend_count': 31,\n",
       "  'fim_t': 0.00803828239440918,\n",
       "  'fim_count': 30,\n",
       "  'apyori_t': 0.07371020317077637,\n",
       "  'apyori_count': 31,\n",
       "  'pyapriori_t': 0.0028905868530273438,\n",
       "  'pyapriori_count': 31,\n",
       "  'pyapriori_cupy_t': 0.11085629463195801,\n",
       "  'pyapriori_cupy_count': 31}}"
      ]
     },
     "execution_count": 7,
     "metadata": {},
     "output_type": "execute_result"
    }
   ],
   "source": [
    "test_result"
   ]
  }
 ],
 "metadata": {
  "kernelspec": {
   "display_name": "Python 3 (ipykernel)",
   "language": "python",
   "name": "python3"
  },
  "language_info": {
   "codemirror_mode": {
    "name": "ipython",
    "version": 3
   },
   "file_extension": ".py",
   "mimetype": "text/x-python",
   "name": "python",
   "nbconvert_exporter": "python",
   "pygments_lexer": "ipython3",
   "version": "3.9.7"
  }
 },
 "nbformat": 4,
 "nbformat_minor": 5
}
