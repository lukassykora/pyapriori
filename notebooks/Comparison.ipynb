{
 "cells": [
  {
   "cell_type": "markdown",
   "id": "d1ce34c0",
   "metadata": {},
   "source": [
    "# Compare PyApriori with other Python packages"
   ]
  },
  {
   "cell_type": "markdown",
   "id": "410a748c",
   "metadata": {},
   "source": [
    "Packages:\n",
    "- mlxtend.frequent_patterns.apriori\n",
    "- PyFIM\n",
    "- apyori\n",
    "- pyapriori (this package)"
   ]
  },
  {
   "cell_type": "markdown",
   "id": "58ae2da3",
   "metadata": {},
   "source": [
    "Data:\n",
    "- accidents\n",
    "- connect\n",
    "- chess\n",
    "- mushroom\n",
    "\n",
    "Source: Frequent Itemset Mining Implementations Repository (http://fimi.uantwerpen.be/data/) "
   ]
  },
  {
   "cell_type": "markdown",
   "id": "590a7621",
   "metadata": {},
   "source": [
    "## Data Preparation"
   ]
  },
  {
   "cell_type": "code",
   "execution_count": 1,
   "id": "d08f4141",
   "metadata": {},
   "outputs": [],
   "source": [
    "import pandas as pd\n",
    "import csv\n",
    "from mlxtend.preprocessing import TransactionEncoder\n",
    "from scipy.sparse import csc_matrix\n",
    "from cupyx.scipy.sparse import csr_matrix as csr_matrix_cupy"
   ]
  },
  {
   "cell_type": "markdown",
   "id": "c473876b",
   "metadata": {},
   "source": [
    "Load datasets"
   ]
  },
  {
   "cell_type": "code",
   "execution_count": 2,
   "id": "f73d02c9",
   "metadata": {},
   "outputs": [],
   "source": [
    "def load_dataset(datafile):\n",
    "    dataset = [i.strip().split() for i in open(datafile).readlines()]\n",
    "    # Number of transactions\n",
    "    transactions_count = len(dataset)\n",
    "    # One Hot Encoding\n",
    "    te = TransactionEncoder()\n",
    "    te_dummies = te.fit(dataset).transform(dataset)\n",
    "    # Dataframe with One Hot Encoding\n",
    "    df = pd.DataFrame(te_dummies, columns=te.columns_)\n",
    "    # CSC Matrix with One Hot Encoding\n",
    "    dataset_csc = csc_matrix(te_dummies)\n",
    "    # Cupy CSC Matrix with One Hot Encoding\n",
    "    dataset_csr_cupy = csr_matrix_cupy(dataset_csc)\n",
    "    return df, dataset, dataset_csc, dataset_csr_cupy, transactions_count"
   ]
  },
  {
   "cell_type": "markdown",
   "id": "bc5a83fc",
   "metadata": {},
   "source": [
    "## Modeling"
   ]
  },
  {
   "cell_type": "code",
   "execution_count": 3,
   "id": "9b8caed6",
   "metadata": {},
   "outputs": [],
   "source": [
    "import time\n",
    "from mlxtend.frequent_patterns import apriori as mlxtend_apriori\n",
    "import fim\n",
    "from apyori import apriori as apyori_apriori\n",
    "from pyapriori import PyApriori"
   ]
  },
  {
   "cell_type": "code",
   "execution_count": 4,
   "id": "0f50ae15",
   "metadata": {},
   "outputs": [],
   "source": [
    "def run_models(minsup, df, dataset, dataset_csc, dataset_csr_cupy, transactions_count):\n",
    "    try:\n",
    "        start = time.time()\n",
    "        result = None\n",
    "        #result = mlxtend_apriori(df, min_support=(minsup/100), use_colnames=True)\n",
    "        end = time.time()\n",
    "        mlxtend_t = end - start\n",
    "        mlxtend_count = result.shape[0]\n",
    "    except:\n",
    "        mlxtend_t = None\n",
    "        mlxtend_count = None\n",
    "    print('mlxtend Done in ' + str(mlxtend_t) + 's')\n",
    "    \n",
    "    try:\n",
    "        start = time.time()\n",
    "        result = fim.apriori(dataset, supp=minsup)\n",
    "        end = time.time()\n",
    "        fim_t = end - start\n",
    "        fim_count = len(result)  \n",
    "    except:\n",
    "        fim_t = None\n",
    "        fim_count = None \n",
    "    print('fim Done in ' + str(fim_t) + 's')    \n",
    "    \n",
    "    try:\n",
    "        start = time.time()\n",
    "        result = None\n",
    "        # result = list(apyori_apriori(dataset, min_support=(minsup/100)))\n",
    "        end = time.time()\n",
    "        apyori_t = end - start\n",
    "        apyori_count = len(result)\n",
    "    except:\n",
    "        apyori_t = None\n",
    "        apyori_count = None\n",
    "    print('apyori Done in ' + str(apyori_t) + 's')      \n",
    "    \n",
    "    try:\n",
    "        start = time.time()\n",
    "        py_apriori = PyApriori(round(transactions_count * (minsup/100)), 1)\n",
    "        _, result = py_apriori.fit(dataset_csc)\n",
    "        end = time.time()\n",
    "        pyapriori_t = end - start\n",
    "        pyapriori_count = len(result)  \n",
    "    except:\n",
    "        pyapriori_t = None\n",
    "        pyapriori_count = None \n",
    "    print('pyapriori Done in ' + str(pyapriori_t) + 's')     \n",
    "    \n",
    "    try:\n",
    "        start = time.time()\n",
    "        py_apriori = PyApriori(round(transactions_count * (minsup/100)), 1)\n",
    "        _, result = py_apriori.fit(dataset_csr_cupy)\n",
    "        end = time.time()\n",
    "        pyapriori_cupy_t = end - start\n",
    "        pyapriori_cupy_count = len(result) \n",
    "    except:\n",
    "        pyapriori_cupy_t = None\n",
    "        pyapriori_cupy_count = None \n",
    "    print('pyapriori_cupy Done in ' + str(pyapriori_cupy_t) + 's')       \n",
    "    \n",
    "    return mlxtend_t, mlxtend_count, fim_t, fim_count, apyori_t, apyori_count, pyapriori_t, pyapriori_count, pyapriori_cupy_t, pyapriori_cupy_count"
   ]
  },
  {
   "cell_type": "markdown",
   "id": "5c0f299b",
   "metadata": {},
   "source": [
    "## Run test"
   ]
  },
  {
   "cell_type": "markdown",
   "id": "e6270d7b",
   "metadata": {},
   "source": [
    "Parameters"
   ]
  },
  {
   "cell_type": "code",
   "execution_count": 5,
   "id": "3f06c251",
   "metadata": {},
   "outputs": [],
   "source": [
    "supports = [50, 60, 70]\n",
    "datafiles = ['data/accidents.dat', 'data/chess.dat', 'data/mushroom.dat']"
   ]
  },
  {
   "cell_type": "markdown",
   "id": "baed3f1a",
   "metadata": {},
   "source": [
    "Test"
   ]
  },
  {
   "cell_type": "code",
   "execution_count": 6,
   "id": "5e91c107",
   "metadata": {},
   "outputs": [
    {
     "name": "stdout",
     "output_type": "stream",
     "text": [
      "(50, 'data/accidents.dat')\n",
      "mlxtend Done in Nones\n",
      "fim Done in 1.6866486072540283s\n",
      "apyori Done in Nones\n",
      "pyapriori Done in 12.543937921524048s\n",
      "pyapriori_cupy Done in Nones\n",
      "(50, 'data/chess.dat')\n",
      "mlxtend Done in Nones\n",
      "fim Done in 4.939673662185669s\n",
      "apyori Done in Nones\n",
      "pyapriori Done in 17.743335962295532s\n",
      "pyapriori_cupy Done in Nones\n",
      "(50, 'data/mushroom.dat')\n",
      "mlxtend Done in Nones\n",
      "fim Done in 0.0081329345703125s\n",
      "apyori Done in Nones\n",
      "pyapriori Done in 0.00712132453918457s\n",
      "pyapriori_cupy Done in 0.13138127326965332s\n",
      "(60, 'data/accidents.dat')\n",
      "mlxtend Done in Nones\n",
      "fim Done in 0.7882781028747559s\n",
      "apyori Done in Nones\n",
      "pyapriori Done in 3.959397077560425s\n",
      "pyapriori_cupy Done in Nones\n",
      "(60, 'data/chess.dat')\n",
      "mlxtend Done in Nones\n",
      "fim Done in 0.7741608619689941s\n",
      "apyori Done in Nones\n",
      "pyapriori Done in 4.1568193435668945s\n",
      "pyapriori_cupy Done in Nones\n",
      "(60, 'data/mushroom.dat')\n",
      "mlxtend Done in Nones\n",
      "fim Done in 0.008974552154541016s\n",
      "apyori Done in Nones\n",
      "pyapriori Done in 0.003852367401123047s\n",
      "pyapriori_cupy Done in 0.1445903778076172s\n",
      "(70, 'data/accidents.dat')\n",
      "mlxtend Done in Nones\n",
      "fim Done in 0.6450071334838867s\n",
      "apyori Done in Nones\n",
      "pyapriori Done in 1.1923491954803467s\n",
      "pyapriori_cupy Done in 10.875280380249023s\n",
      "(70, 'data/chess.dat')\n",
      "mlxtend Done in Nones\n",
      "fim Done in 0.0634315013885498s\n",
      "apyori Done in Nones\n",
      "pyapriori Done in 0.9126145839691162s\n",
      "pyapriori_cupy Done in 1.8169360160827637s\n",
      "(70, 'data/mushroom.dat')\n",
      "mlxtend Done in Nones\n",
      "fim Done in 0.0077893733978271484s\n",
      "apyori Done in Nones\n",
      "pyapriori Done in 0.0030727386474609375s\n",
      "pyapriori_cupy Done in 0.10704851150512695s\n"
     ]
    }
   ],
   "source": [
    "test_result = {}\n",
    "for minsup in supports:\n",
    "    for datafile in datafiles:\n",
    "        print((minsup, datafile))\n",
    "        df, dataset, dataset_csc, dataset_csr_cupy, transactions_count = load_dataset(datafile)\n",
    "        mlxtend_t, mlxtend_count, fim_t, fim_count, apyori_t, apyori_count, pyapriori_t, pyapriori_count, pyapriori_cupy_t, pyapriori_cupy_count = run_models(minsup, df, dataset, dataset_csc, dataset_csr_cupy, transactions_count)\n",
    "        test_result[(minsup, datafile)] = {'mlxtend_t': mlxtend_t, 'mlxtend_count':mlxtend_count, 'fim_t':fim_t, 'fim_count':fim_count, 'apyori_t':apyori_t, 'apyori_count':apyori_count, 'pyapriori_t':pyapriori_t, 'pyapriori_count':pyapriori_count, 'pyapriori_cupy_t':pyapriori_cupy_t, 'pyapriori_cupy_count':pyapriori_cupy_count}"
   ]
  },
  {
   "cell_type": "markdown",
   "id": "1e79fd0d",
   "metadata": {},
   "source": [
    "Results"
   ]
  },
  {
   "cell_type": "code",
   "execution_count": 7,
   "id": "68a0de1d",
   "metadata": {},
   "outputs": [
    {
     "data": {
      "text/plain": [
       "{(50, 'data/accidents.dat'): {'mlxtend_t': None,\n",
       "  'mlxtend_count': None,\n",
       "  'fim_t': 1.6866486072540283,\n",
       "  'fim_count': 8057,\n",
       "  'apyori_t': None,\n",
       "  'apyori_count': None,\n",
       "  'pyapriori_t': 12.543937921524048,\n",
       "  'pyapriori_count': 8057,\n",
       "  'pyapriori_cupy_t': None,\n",
       "  'pyapriori_cupy_count': None},\n",
       " (50, 'data/chess.dat'): {'mlxtend_t': None,\n",
       "  'mlxtend_count': None,\n",
       "  'fim_t': 4.939673662185669,\n",
       "  'fim_count': 1272932,\n",
       "  'apyori_t': None,\n",
       "  'apyori_count': None,\n",
       "  'pyapriori_t': 17.743335962295532,\n",
       "  'pyapriori_count': 1272932,\n",
       "  'pyapriori_cupy_t': None,\n",
       "  'pyapriori_cupy_count': None},\n",
       " (50, 'data/mushroom.dat'): {'mlxtend_t': None,\n",
       "  'mlxtend_count': None,\n",
       "  'fim_t': 0.0081329345703125,\n",
       "  'fim_count': 152,\n",
       "  'apyori_t': None,\n",
       "  'apyori_count': None,\n",
       "  'pyapriori_t': 0.00712132453918457,\n",
       "  'pyapriori_count': 153,\n",
       "  'pyapriori_cupy_t': 0.13138127326965332,\n",
       "  'pyapriori_cupy_count': 153},\n",
       " (60, 'data/accidents.dat'): {'mlxtend_t': None,\n",
       "  'mlxtend_count': None,\n",
       "  'fim_t': 0.7882781028747559,\n",
       "  'fim_count': 2074,\n",
       "  'apyori_t': None,\n",
       "  'apyori_count': None,\n",
       "  'pyapriori_t': 3.959397077560425,\n",
       "  'pyapriori_count': 2074,\n",
       "  'pyapriori_cupy_t': None,\n",
       "  'pyapriori_cupy_count': None},\n",
       " (60, 'data/chess.dat'): {'mlxtend_t': None,\n",
       "  'mlxtend_count': None,\n",
       "  'fim_t': 0.7741608619689941,\n",
       "  'fim_count': 254944,\n",
       "  'apyori_t': None,\n",
       "  'apyori_count': None,\n",
       "  'pyapriori_t': 4.1568193435668945,\n",
       "  'pyapriori_count': 254944,\n",
       "  'pyapriori_cupy_t': None,\n",
       "  'pyapriori_cupy_count': None},\n",
       " (60, 'data/mushroom.dat'): {'mlxtend_t': None,\n",
       "  'mlxtend_count': None,\n",
       "  'fim_t': 0.008974552154541016,\n",
       "  'fim_count': 50,\n",
       "  'apyori_t': None,\n",
       "  'apyori_count': None,\n",
       "  'pyapriori_t': 0.003852367401123047,\n",
       "  'pyapriori_count': 51,\n",
       "  'pyapriori_cupy_t': 0.1445903778076172,\n",
       "  'pyapriori_cupy_count': 51},\n",
       " (70, 'data/accidents.dat'): {'mlxtend_t': None,\n",
       "  'mlxtend_count': None,\n",
       "  'fim_t': 0.6450071334838867,\n",
       "  'fim_count': 529,\n",
       "  'apyori_t': None,\n",
       "  'apyori_count': None,\n",
       "  'pyapriori_t': 1.1923491954803467,\n",
       "  'pyapriori_count': 529,\n",
       "  'pyapriori_cupy_t': 10.875280380249023,\n",
       "  'pyapriori_cupy_count': 529},\n",
       " (70, 'data/chess.dat'): {'mlxtend_t': None,\n",
       "  'mlxtend_count': None,\n",
       "  'fim_t': 0.0634315013885498,\n",
       "  'fim_count': 48731,\n",
       "  'apyori_t': None,\n",
       "  'apyori_count': None,\n",
       "  'pyapriori_t': 0.9126145839691162,\n",
       "  'pyapriori_count': 48969,\n",
       "  'pyapriori_cupy_t': 1.8169360160827637,\n",
       "  'pyapriori_cupy_count': 48969},\n",
       " (70, 'data/mushroom.dat'): {'mlxtend_t': None,\n",
       "  'mlxtend_count': None,\n",
       "  'fim_t': 0.0077893733978271484,\n",
       "  'fim_count': 30,\n",
       "  'apyori_t': None,\n",
       "  'apyori_count': None,\n",
       "  'pyapriori_t': 0.0030727386474609375,\n",
       "  'pyapriori_count': 31,\n",
       "  'pyapriori_cupy_t': 0.10704851150512695,\n",
       "  'pyapriori_cupy_count': 31}}"
      ]
     },
     "execution_count": 7,
     "metadata": {},
     "output_type": "execute_result"
    }
   ],
   "source": [
    "test_result"
   ]
  }
 ],
 "metadata": {
  "kernelspec": {
   "display_name": "Python 3 (ipykernel)",
   "language": "python",
   "name": "python3"
  },
  "language_info": {
   "codemirror_mode": {
    "name": "ipython",
    "version": 3
   },
   "file_extension": ".py",
   "mimetype": "text/x-python",
   "name": "python",
   "nbconvert_exporter": "python",
   "pygments_lexer": "ipython3",
   "version": "3.9.7"
  }
 },
 "nbformat": 4,
 "nbformat_minor": 5
}
