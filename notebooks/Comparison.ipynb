{
 "cells": [
  {
   "cell_type": "markdown",
   "id": "d1ce34c0",
   "metadata": {},
   "source": [
    "# Compare PyApriori with other Python packages"
   ]
  },
  {
   "cell_type": "markdown",
   "id": "410a748c",
   "metadata": {},
   "source": [
    "Packages:\n",
    "- mlxtend.frequent_patterns.apriori\n",
    "- PyFIM\n",
    "- apyori\n",
    "- pyapriori (this package)"
   ]
  },
  {
   "cell_type": "markdown",
   "id": "58ae2da3",
   "metadata": {},
   "source": [
    "Data:\n",
    "- accidents\n",
    "- connect\n",
    "- chess\n",
    "- mushroom\n",
    "\n",
    "Source: Frequent Itemset Mining Implementations Repository (http://fimi.uantwerpen.be/data/) "
   ]
  },
  {
   "cell_type": "markdown",
   "id": "590a7621",
   "metadata": {},
   "source": [
    "## Data Preparation"
   ]
  },
  {
   "cell_type": "code",
   "execution_count": 1,
   "id": "d08f4141",
   "metadata": {},
   "outputs": [],
   "source": [
    "import pandas as pd\n",
    "import csv\n",
    "from mlxtend.preprocessing import TransactionEncoder\n",
    "from scipy.sparse import csc_matrix\n",
    "from cupyx.scipy.sparse import csr_matrix as csr_matrix_cupy"
   ]
  },
  {
   "cell_type": "markdown",
   "id": "c473876b",
   "metadata": {},
   "source": [
    "Load datasets"
   ]
  },
  {
   "cell_type": "code",
   "execution_count": 2,
   "id": "f73d02c9",
   "metadata": {},
   "outputs": [],
   "source": [
    "def load_dataset(datafile):\n",
    "    dataset = [i.strip().split() for i in open(datafile).readlines()]\n",
    "    # Number of transactions\n",
    "    transactions_count = len(dataset)\n",
    "    # One Hot Encoding\n",
    "    te = TransactionEncoder()\n",
    "    te_dummies = te.fit(dataset).transform(dataset)\n",
    "    # Dataframe with One Hot Encoding\n",
    "    df = pd.DataFrame(te_dummies, columns=te.columns_)\n",
    "    # CSC Matrix with One Hot Encoding\n",
    "    dataset_csc = csc_matrix(te_dummies)\n",
    "    # Cupy CSC Matrix with One Hot Encoding\n",
    "    dataset_csr_cupy = csr_matrix_cupy(dataset_csc)\n",
    "    return df, dataset, dataset_csc, dataset_csr_cupy, transactions_count"
   ]
  },
  {
   "cell_type": "markdown",
   "id": "bc5a83fc",
   "metadata": {},
   "source": [
    "## Modeling"
   ]
  },
  {
   "cell_type": "code",
   "execution_count": 3,
   "id": "9b8caed6",
   "metadata": {},
   "outputs": [],
   "source": [
    "import time\n",
    "from mlxtend.frequent_patterns import apriori as mlxtend_apriori\n",
    "import fim\n",
    "from apyori import apriori as apyori_apriori\n",
    "from pyapriori import PyApriori"
   ]
  },
  {
   "cell_type": "code",
   "execution_count": 4,
   "id": "0f50ae15",
   "metadata": {},
   "outputs": [],
   "source": [
    "def run_models(minsup, df, dataset, dataset_csc, dataset_csr_cupy, transactions_count):\n",
    "    try:\n",
    "        start = time.time()\n",
    "        result = mlxtend_apriori(df, min_support=(minsup/100), use_colnames=True)\n",
    "        end = time.time()\n",
    "        mlxtend_t = end - start\n",
    "        mlxtend_count = result.shape[0]\n",
    "    except:\n",
    "        mlxtend_t = None\n",
    "        mlxtend_count = None\n",
    "    \n",
    "    try:\n",
    "        start = time.time()\n",
    "        result = fim.apriori(dataset, supp=minsup)\n",
    "        end = time.time()\n",
    "        fim_t = end - start\n",
    "        fim_count = len(result)  \n",
    "    except:\n",
    "        fim_t = None\n",
    "        fim_count = None \n",
    "    \n",
    "    try:\n",
    "        start = time.time()\n",
    "        result = list(apyori_apriori(dataset, min_support=(minsup/100)))\n",
    "        end = time.time()\n",
    "        apyori_t = end - start\n",
    "        apyori_count = len(result)\n",
    "    except:\n",
    "        apyori_t = None\n",
    "        apyori_count = None\n",
    "    \n",
    "    try:\n",
    "        start = time.time()\n",
    "        py_apriori = PyApriori(round(transactions_count * (minsup/100)), 1)\n",
    "        _, result = py_apriori.fit(dataset_csc)\n",
    "        end = time.time()\n",
    "        pyapriori_t = end - start\n",
    "        pyapriori_count = len(result)  \n",
    "    except:\n",
    "        pyapriori_t = None\n",
    "        pyapriori_count = None \n",
    "    \n",
    "    try:\n",
    "        start = time.time()\n",
    "        py_apriori = PyApriori(round(transactions_count * (minsup/100)), 1)\n",
    "        _, result = py_apriori.fit(dataset_csr_cupy)\n",
    "        end = time.time()\n",
    "        pyapriori_cupy_t = end - start\n",
    "        pyapriori_cupy_count = len(result) \n",
    "    except:\n",
    "        pyapriori_cupy_t = None\n",
    "        pyapriori_cupy_count = None    \n",
    "    \n",
    "    return mlxtend_t, mlxtend_count, fim_t, fim_count, apyori_t, apyori_count, pyapriori_t, pyapriori_count, pyapriori_cupy_t, pyapriori_cupy_count"
   ]
  },
  {
   "cell_type": "markdown",
   "id": "5c0f299b",
   "metadata": {},
   "source": [
    "## Run test"
   ]
  },
  {
   "cell_type": "markdown",
   "id": "e6270d7b",
   "metadata": {},
   "source": [
    "Parameters"
   ]
  },
  {
   "cell_type": "code",
   "execution_count": 5,
   "id": "3f06c251",
   "metadata": {},
   "outputs": [],
   "source": [
    "supports = [40, 60, 80]\n",
    "datafiles = ['data/accidents.dat', 'data/connect.dat', 'data/chess.dat', 'data/mushroom.dat']"
   ]
  },
  {
   "cell_type": "markdown",
   "id": "baed3f1a",
   "metadata": {},
   "source": [
    "Test"
   ]
  },
  {
   "cell_type": "code",
   "execution_count": null,
   "id": "5e91c107",
   "metadata": {},
   "outputs": [
    {
     "name": "stdout",
     "output_type": "stream",
     "text": [
      "(40, 'data/accidents.dat')\n"
     ]
    }
   ],
   "source": [
    "test_result = {}\n",
    "for minsup in supports:\n",
    "    for datafile in datafiles:\n",
    "        print((minsup, datafile))\n",
    "        df, dataset, dataset_csc, dataset_csr_cupy, transactions_count = load_dataset(datafile)\n",
    "        mlxtend_t, mlxtend_count, fim_t, fim_count, apyori_t, apyori_count, pyapriori_t, pyapriori_count, pyapriori_cupy_t, pyapriori_cupy_count = run_models(minsup, df, dataset, dataset_csc, dataset_csr_cupy, transactions_count)\n",
    "        test_result[(minsup, datafile)] = {'mlxtend_t': mlxtend_t, 'mlxtend_count':mlxtend_count, 'fim_t':fim_t, 'fim_count':fim_count, 'apyori_t':apyori_t, 'apyori_count':apyori_count, 'pyapriori_t':pyapriori_t, 'pyapriori_count':pyapriori_count, 'pyapriori_cupy_t':pyapriori_cupy_t, 'pyapriori_cupy_count':pyapriori_cupy_count}"
   ]
  },
  {
   "cell_type": "markdown",
   "id": "1e79fd0d",
   "metadata": {},
   "source": [
    "Results"
   ]
  },
  {
   "cell_type": "code",
   "execution_count": null,
   "id": "68a0de1d",
   "metadata": {},
   "outputs": [],
   "source": [
    "test_result"
   ]
  }
 ],
 "metadata": {
  "kernelspec": {
   "display_name": "Python 3 (ipykernel)",
   "language": "python",
   "name": "python3"
  },
  "language_info": {
   "codemirror_mode": {
    "name": "ipython",
    "version": 3
   },
   "file_extension": ".py",
   "mimetype": "text/x-python",
   "name": "python",
   "nbconvert_exporter": "python",
   "pygments_lexer": "ipython3",
   "version": "3.8.12"
  }
 },
 "nbformat": 4,
 "nbformat_minor": 5
}
