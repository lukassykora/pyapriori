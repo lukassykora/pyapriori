{
 "cells": [
  {
   "cell_type": "markdown",
   "id": "d1ce34c0",
   "metadata": {},
   "source": [
    "# Compare PyApriori with other Python packages"
   ]
  },
  {
   "cell_type": "markdown",
   "id": "410a748c",
   "metadata": {},
   "source": [
    "Packages:\n",
    "- mlxtend.frequent_patterns.apriori\n",
    "- PyFIM\n",
    "- apyori\n",
    "- pyapriori (this package)"
   ]
  },
  {
   "cell_type": "markdown",
   "id": "58ae2da3",
   "metadata": {},
   "source": [
    "Data:\n",
    "- accidents\n",
    "- connect\n",
    "- chess\n",
    "- mushroom\n",
    "\n",
    "Source: Frequent Itemset Mining Implementations Repository (http://fimi.uantwerpen.be/data/) "
   ]
  },
  {
   "cell_type": "markdown",
   "id": "590a7621",
   "metadata": {},
   "source": [
    "## Data Preparation"
   ]
  },
  {
   "cell_type": "code",
   "execution_count": 1,
   "id": "d08f4141",
   "metadata": {},
   "outputs": [],
   "source": [
    "import pandas as pd\n",
    "import csv\n",
    "from mlxtend.preprocessing import TransactionEncoder\n",
    "from scipy.sparse import csc_matrix\n",
    "from cupyx.scipy.sparse import csr_matrix as csr_matrix_cupy\n",
    "import numpy as np\n",
    "import cupy as cp"
   ]
  },
  {
   "cell_type": "markdown",
   "id": "c473876b",
   "metadata": {},
   "source": [
    "Load datasets"
   ]
  },
  {
   "cell_type": "code",
   "execution_count": 2,
   "id": "f73d02c9",
   "metadata": {},
   "outputs": [],
   "source": [
    "def load_dataset(datafile):\n",
    "    dataset = [i.strip().split() for i in open(datafile).readlines()]\n",
    "    # Number of transactions\n",
    "    transactions_count = len(dataset)\n",
    "    # One Hot Encoding\n",
    "    te = TransactionEncoder()\n",
    "    te_dummies = te.fit(dataset).transform(dataset)\n",
    "    # Dataframe with One Hot Encoding\n",
    "    df = pd.DataFrame(te_dummies, columns=te.columns_)\n",
    "    # Numpy Array\n",
    "    numpy_array = np.array(te_dummies)\n",
    "    # CuPy Array\n",
    "    #cupy_array = cp.array(numpy_array )\n",
    "    cupy_array = cp.array(np.array([]))\n",
    "    # CSC Matrix with One Hot Encoding\n",
    "    dataset_csc = csc_matrix(te_dummies)\n",
    "    # Cupy CSC Matrix with One Hot Encoding\n",
    "    dataset_csr_cupy = csr_matrix_cupy(dataset_csc)\n",
    "    return df, dataset, dataset_csc, dataset_csr_cupy, transactions_count, numpy_array, cupy_array"
   ]
  },
  {
   "cell_type": "markdown",
   "id": "bc5a83fc",
   "metadata": {},
   "source": [
    "## Modeling"
   ]
  },
  {
   "cell_type": "code",
   "execution_count": 3,
   "id": "9b8caed6",
   "metadata": {},
   "outputs": [],
   "source": [
    "import time\n",
    "from mlxtend.frequent_patterns import apriori as mlxtend_apriori\n",
    "import fim\n",
    "from apyori import apriori as apyori_apriori\n",
    "from pyapriori import PyApriori\n",
    "from interruptingcow import timeout"
   ]
  },
  {
   "cell_type": "markdown",
   "id": "8caf8b2b",
   "metadata": {},
   "source": [
    "The model fit is killed in 30s."
   ]
  },
  {
   "cell_type": "code",
   "execution_count": 4,
   "id": "0f50ae15",
   "metadata": {},
   "outputs": [],
   "source": [
    "def run_models(minsup, df, dataset, dataset_csc, dataset_csr_cupy, transactions_count, numpy_array, cupy_array):\n",
    "    try:\n",
    "        start = time.time()\n",
    "        with timeout(30, exception=RuntimeError):\n",
    "            result = mlxtend_apriori(df, min_support=(minsup/100), use_colnames=True)\n",
    "        end = time.time()\n",
    "        mlxtend_t = end - start\n",
    "        mlxtend_count = result.shape[0]\n",
    "    except Exception as inst:\n",
    "        print(inst)\n",
    "        mlxtend_t = None\n",
    "        mlxtend_count = None\n",
    "    print('mlxtend Done in ' + str(mlxtend_t) + 's')\n",
    "    \n",
    "    try:\n",
    "        start = time.time()\n",
    "        with timeout(30, exception=RuntimeError):\n",
    "            result = fim.apriori(dataset, supp=minsup)\n",
    "        end = time.time()\n",
    "        fim_t = end - start\n",
    "        fim_count = len(result)  \n",
    "    except Exception as inst:\n",
    "        print(inst)\n",
    "        fim_t = None\n",
    "        fim_count = None \n",
    "    print('fim Done in ' + str(fim_t) + 's') \n",
    "    print('result')\n",
    "    print(result[:10])\n",
    "    \n",
    "    try:\n",
    "        start = time.time()\n",
    "        with timeout(30, exception=RuntimeError):\n",
    "            result = list(apyori_apriori(dataset, min_support=(minsup/100)))\n",
    "        end = time.time()\n",
    "        apyori_t = end - start\n",
    "        apyori_count = len(result)\n",
    "    except Exception as inst:\n",
    "        print(inst)\n",
    "        apyori_t = None\n",
    "        apyori_count = None\n",
    "    print('apyori Done in ' + str(apyori_t) + 's')      \n",
    "    \n",
    "    try:\n",
    "        start = time.time()\n",
    "        with timeout(30, exception=RuntimeError):\n",
    "            py_apriori = PyApriori(round(transactions_count * (minsup/100)), 1)\n",
    "            _, result = py_apriori.fit(dataset_csc)\n",
    "        end = time.time()\n",
    "        pyapriori_t = end - start\n",
    "        pyapriori_count = len(result)  \n",
    "    except Exception as inst:\n",
    "        print(inst)\n",
    "        pyapriori_t = None\n",
    "        pyapriori_count = None \n",
    "    print('pyapriori Done in ' + str(pyapriori_t) + 's')\n",
    "    print('result')\n",
    "    print(result[:10])\n",
    "    \n",
    "\n",
    "    start = time.time()\n",
    "    with timeout(30, exception=RuntimeError):\n",
    "        py_apriori = PyApriori(round(transactions_count * (minsup/100)), 1)\n",
    "        _, result = py_apriori.fit(dataset_csr_cupy)\n",
    "    end = time.time()\n",
    "    pyapriori_cupy_t = end - start\n",
    "    pyapriori_cupy_count = len(result) \n",
    "    print('pyapriori_cupy Done in ' + str(pyapriori_cupy_t) + 's') \n",
    "    \n",
    "    try:\n",
    "        start = time.time()\n",
    "        with timeout(30, exception=RuntimeError):\n",
    "            py_apriori = PyApriori(round(transactions_count * (minsup/100)), 1)\n",
    "            _, result = py_apriori.fit(dataset_csr_cupy)\n",
    "        end = time.time()\n",
    "        pyapriori_cupy_t = end - start\n",
    "        pyapriori_cupy_count = len(result) \n",
    "    except Exception as inst:\n",
    "        print(inst)\n",
    "        pyapriori_cupy_t = None\n",
    "        pyapriori_cupy_count = None \n",
    "    print('pyapriori_cupy Done in ' + str(pyapriori_cupy_t) + 's') \n",
    "    \n",
    "    try:\n",
    "        start = time.time()\n",
    "        with timeout(30, exception=RuntimeError):\n",
    "            py_apriori = PyApriori(round(transactions_count * (minsup/100)), 1)\n",
    "            _, result = py_apriori.fit(numpy_array)\n",
    "        end = time.time()\n",
    "        numpy_t = end - start\n",
    "        numpy_count = len(result)  \n",
    "    except Exception as inst:\n",
    "        print(inst)\n",
    "        numpy_t = None\n",
    "        numpy_count = None \n",
    "    print('numpy Done in ' + str(numpy_t) + 's')  \n",
    "    \n",
    "    try:\n",
    "        start = time.time()\n",
    "        with timeout(30, exception=RuntimeError):\n",
    "            py_apriori = PyApriori(round(transactions_count * (minsup/100)), 1)\n",
    "            _, result = py_apriori.fit(cupy_array)\n",
    "        end = time.time()\n",
    "        cupy_t = end - start\n",
    "        cupy_count = len(result)  \n",
    "    except Exception as inst:\n",
    "        print(inst)\n",
    "        cupy_t = None\n",
    "        cupy_count = None \n",
    "    print('cupy Done in ' + str(cupy_t) + 's') \n",
    "    \n",
    "    return mlxtend_t, mlxtend_count, fim_t, fim_count, apyori_t, apyori_count, pyapriori_t, pyapriori_count, pyapriori_cupy_t, pyapriori_cupy_count, numpy_t, numpy_count, cupy_t, cupy_count"
   ]
  },
  {
   "cell_type": "markdown",
   "id": "5c0f299b",
   "metadata": {},
   "source": [
    "## Run test"
   ]
  },
  {
   "cell_type": "markdown",
   "id": "e6270d7b",
   "metadata": {},
   "source": [
    "Parameters"
   ]
  },
  {
   "cell_type": "code",
   "execution_count": 5,
   "id": "3f06c251",
   "metadata": {},
   "outputs": [],
   "source": [
    "supports = [50, 60, 70]\n",
    "datafiles = ['data/accidents.dat', 'data/chess.dat', 'data/mushroom.dat']"
   ]
  },
  {
   "cell_type": "markdown",
   "id": "68c8d3ec",
   "metadata": {},
   "source": [
    "2.39"
   ]
  },
  {
   "cell_type": "markdown",
   "id": "baed3f1a",
   "metadata": {},
   "source": [
    "Test"
   ]
  },
  {
   "cell_type": "code",
   "execution_count": 6,
   "id": "5e91c107",
   "metadata": {},
   "outputs": [
    {
     "name": "stdout",
     "output_type": "stream",
     "text": [
      "(50, 'data/accidents.dat')\n",
      "\n",
      "mlxtend Done in Nones\n",
      "fim Done in 1.6964342594146729s\n",
      "result\n",
      "[(('23',), 173309), (('23', '18'), 172849), (('23', '18', '12'), 172759), (('23', '18', '12', '17'), 172745), (('23', '18', '17'), 172835), (('23', '12'), 173172), (('23', '12', '17'), 173158), (('23', '17'), 173295), (('30',), 183641), (('30', '21'), 170258)]\n",
      "\n",
      "apyori Done in Nones\n",
      "axis 0 is out of bounds for array of dimension 0\n",
      "pyapriori Done in Nones\n",
      "result\n",
      "[(('23',), 173309), (('23', '18'), 172849), (('23', '18', '12'), 172759), (('23', '18', '12', '17'), 172745), (('23', '18', '17'), 172835), (('23', '12'), 173172), (('23', '12', '17'), 173158), (('23', '17'), 173295), (('30',), 183641), (('30', '21'), 170258)]\n"
     ]
    },
    {
     "ename": "ValueError",
     "evalue": "could not interpret dimensions",
     "output_type": "error",
     "traceback": [
      "\u001b[0;31m---------------------------------------------------------------------------\u001b[0m",
      "\u001b[0;31mValueError\u001b[0m                                Traceback (most recent call last)",
      "\u001b[0;32m/tmp/ipykernel_16475/40051107.py\u001b[0m in \u001b[0;36m<module>\u001b[0;34m\u001b[0m\n\u001b[1;32m      4\u001b[0m         \u001b[0mprint\u001b[0m\u001b[0;34m(\u001b[0m\u001b[0;34m(\u001b[0m\u001b[0mminsup\u001b[0m\u001b[0;34m,\u001b[0m \u001b[0mdatafile\u001b[0m\u001b[0;34m)\u001b[0m\u001b[0;34m)\u001b[0m\u001b[0;34m\u001b[0m\u001b[0;34m\u001b[0m\u001b[0m\n\u001b[1;32m      5\u001b[0m         \u001b[0mdf\u001b[0m\u001b[0;34m,\u001b[0m \u001b[0mdataset\u001b[0m\u001b[0;34m,\u001b[0m \u001b[0mdataset_csc\u001b[0m\u001b[0;34m,\u001b[0m \u001b[0mdataset_csr_cupy\u001b[0m\u001b[0;34m,\u001b[0m \u001b[0mtransactions_count\u001b[0m\u001b[0;34m,\u001b[0m \u001b[0mnumpy_array\u001b[0m\u001b[0;34m,\u001b[0m \u001b[0mcupy_array\u001b[0m \u001b[0;34m=\u001b[0m \u001b[0mload_dataset\u001b[0m\u001b[0;34m(\u001b[0m\u001b[0mdatafile\u001b[0m\u001b[0;34m)\u001b[0m\u001b[0;34m\u001b[0m\u001b[0;34m\u001b[0m\u001b[0m\n\u001b[0;32m----> 6\u001b[0;31m         \u001b[0mmlxtend_t\u001b[0m\u001b[0;34m,\u001b[0m \u001b[0mmlxtend_count\u001b[0m\u001b[0;34m,\u001b[0m \u001b[0mfim_t\u001b[0m\u001b[0;34m,\u001b[0m \u001b[0mfim_count\u001b[0m\u001b[0;34m,\u001b[0m \u001b[0mapyori_t\u001b[0m\u001b[0;34m,\u001b[0m \u001b[0mapyori_count\u001b[0m\u001b[0;34m,\u001b[0m \u001b[0mpyapriori_t\u001b[0m\u001b[0;34m,\u001b[0m \u001b[0mpyapriori_count\u001b[0m\u001b[0;34m,\u001b[0m \u001b[0mpyapriori_cupy_t\u001b[0m\u001b[0;34m,\u001b[0m \u001b[0mpyapriori_cupy_count\u001b[0m\u001b[0;34m,\u001b[0m \u001b[0mnumpy_t\u001b[0m\u001b[0;34m,\u001b[0m \u001b[0mnumpy_count\u001b[0m\u001b[0;34m,\u001b[0m \u001b[0mcupy_t\u001b[0m\u001b[0;34m,\u001b[0m \u001b[0mcupy_count\u001b[0m \u001b[0;34m=\u001b[0m \u001b[0mrun_models\u001b[0m\u001b[0;34m(\u001b[0m\u001b[0mminsup\u001b[0m\u001b[0;34m,\u001b[0m \u001b[0mdf\u001b[0m\u001b[0;34m,\u001b[0m \u001b[0mdataset\u001b[0m\u001b[0;34m,\u001b[0m \u001b[0mdataset_csc\u001b[0m\u001b[0;34m,\u001b[0m \u001b[0mdataset_csr_cupy\u001b[0m\u001b[0;34m,\u001b[0m \u001b[0mtransactions_count\u001b[0m\u001b[0;34m,\u001b[0m \u001b[0mnumpy_array\u001b[0m\u001b[0;34m,\u001b[0m \u001b[0mcupy_array\u001b[0m\u001b[0;34m)\u001b[0m\u001b[0;34m\u001b[0m\u001b[0;34m\u001b[0m\u001b[0m\n\u001b[0m\u001b[1;32m      7\u001b[0m         \u001b[0mtest_result\u001b[0m\u001b[0;34m[\u001b[0m\u001b[0;34m(\u001b[0m\u001b[0mminsup\u001b[0m\u001b[0;34m,\u001b[0m \u001b[0mdatafile\u001b[0m\u001b[0;34m)\u001b[0m\u001b[0;34m]\u001b[0m \u001b[0;34m=\u001b[0m \u001b[0;34m{\u001b[0m\u001b[0;34m'mlxtend_t'\u001b[0m\u001b[0;34m:\u001b[0m \u001b[0mmlxtend_t\u001b[0m\u001b[0;34m,\u001b[0m \u001b[0;34m'mlxtend_count'\u001b[0m\u001b[0;34m:\u001b[0m\u001b[0mmlxtend_count\u001b[0m\u001b[0;34m,\u001b[0m \u001b[0;34m'fim_t'\u001b[0m\u001b[0;34m:\u001b[0m\u001b[0mfim_t\u001b[0m\u001b[0;34m,\u001b[0m \u001b[0;34m'fim_count'\u001b[0m\u001b[0;34m:\u001b[0m\u001b[0mfim_count\u001b[0m\u001b[0;34m,\u001b[0m \u001b[0;34m'apyori_t'\u001b[0m\u001b[0;34m:\u001b[0m\u001b[0mapyori_t\u001b[0m\u001b[0;34m,\u001b[0m \u001b[0;34m'apyori_count'\u001b[0m\u001b[0;34m:\u001b[0m\u001b[0mapyori_count\u001b[0m\u001b[0;34m,\u001b[0m \u001b[0;34m'pyapriori_t'\u001b[0m\u001b[0;34m:\u001b[0m\u001b[0mpyapriori_t\u001b[0m\u001b[0;34m,\u001b[0m \u001b[0;34m'pyapriori_count'\u001b[0m\u001b[0;34m:\u001b[0m\u001b[0mpyapriori_count\u001b[0m\u001b[0;34m,\u001b[0m \u001b[0;34m'pyapriori_cupy_t'\u001b[0m\u001b[0;34m:\u001b[0m\u001b[0mpyapriori_cupy_t\u001b[0m\u001b[0;34m,\u001b[0m \u001b[0;34m'pyapriori_cupy_count'\u001b[0m\u001b[0;34m:\u001b[0m\u001b[0mpyapriori_cupy_count\u001b[0m\u001b[0;34m,\u001b[0m \u001b[0;34m'numpy_t'\u001b[0m\u001b[0;34m:\u001b[0m\u001b[0mnumpy_t\u001b[0m\u001b[0;34m,\u001b[0m \u001b[0;34m'numpy_count'\u001b[0m\u001b[0;34m:\u001b[0m\u001b[0mnumpy_count\u001b[0m\u001b[0;34m,\u001b[0m \u001b[0;34m'cupy_t'\u001b[0m\u001b[0;34m:\u001b[0m\u001b[0mcupy_t\u001b[0m\u001b[0;34m,\u001b[0m \u001b[0;34m'cupy_count'\u001b[0m\u001b[0;34m:\u001b[0m\u001b[0mcupy_count\u001b[0m\u001b[0;34m}\u001b[0m\u001b[0;34m\u001b[0m\u001b[0;34m\u001b[0m\u001b[0m\n",
      "\u001b[0;32m/tmp/ipykernel_16475/1436415792.py\u001b[0m in \u001b[0;36mrun_models\u001b[0;34m(minsup, df, dataset, dataset_csc, dataset_csr_cupy, transactions_count, numpy_array, cupy_array)\u001b[0m\n\u001b[1;32m     61\u001b[0m     \u001b[0;32mwith\u001b[0m \u001b[0mtimeout\u001b[0m\u001b[0;34m(\u001b[0m\u001b[0;36m30\u001b[0m\u001b[0;34m,\u001b[0m \u001b[0mexception\u001b[0m\u001b[0;34m=\u001b[0m\u001b[0mRuntimeError\u001b[0m\u001b[0;34m)\u001b[0m\u001b[0;34m:\u001b[0m\u001b[0;34m\u001b[0m\u001b[0;34m\u001b[0m\u001b[0m\n\u001b[1;32m     62\u001b[0m         \u001b[0mpy_apriori\u001b[0m \u001b[0;34m=\u001b[0m \u001b[0mPyApriori\u001b[0m\u001b[0;34m(\u001b[0m\u001b[0mround\u001b[0m\u001b[0;34m(\u001b[0m\u001b[0mtransactions_count\u001b[0m \u001b[0;34m*\u001b[0m \u001b[0;34m(\u001b[0m\u001b[0mminsup\u001b[0m\u001b[0;34m/\u001b[0m\u001b[0;36m100\u001b[0m\u001b[0;34m)\u001b[0m\u001b[0;34m)\u001b[0m\u001b[0;34m,\u001b[0m \u001b[0;36m1\u001b[0m\u001b[0;34m)\u001b[0m\u001b[0;34m\u001b[0m\u001b[0;34m\u001b[0m\u001b[0m\n\u001b[0;32m---> 63\u001b[0;31m         \u001b[0m_\u001b[0m\u001b[0;34m,\u001b[0m \u001b[0mresult\u001b[0m \u001b[0;34m=\u001b[0m \u001b[0mpy_apriori\u001b[0m\u001b[0;34m.\u001b[0m\u001b[0mfit\u001b[0m\u001b[0;34m(\u001b[0m\u001b[0mdataset_csr_cupy\u001b[0m\u001b[0;34m)\u001b[0m\u001b[0;34m\u001b[0m\u001b[0;34m\u001b[0m\u001b[0m\n\u001b[0m\u001b[1;32m     64\u001b[0m     \u001b[0mend\u001b[0m \u001b[0;34m=\u001b[0m \u001b[0mtime\u001b[0m\u001b[0;34m.\u001b[0m\u001b[0mtime\u001b[0m\u001b[0;34m(\u001b[0m\u001b[0;34m)\u001b[0m\u001b[0;34m\u001b[0m\u001b[0;34m\u001b[0m\u001b[0m\n\u001b[1;32m     65\u001b[0m     \u001b[0mpyapriori_cupy_t\u001b[0m \u001b[0;34m=\u001b[0m \u001b[0mend\u001b[0m \u001b[0;34m-\u001b[0m \u001b[0mstart\u001b[0m\u001b[0;34m\u001b[0m\u001b[0;34m\u001b[0m\u001b[0m\n",
      "\u001b[0;32m~/Documents/VSE/Programs/pyapriori/pyapriori/pyapriori.py\u001b[0m in \u001b[0;36mfit\u001b[0;34m(self, data)\u001b[0m\n\u001b[1;32m     62\u001b[0m \u001b[0;34m\u001b[0m\u001b[0m\n\u001b[1;32m     63\u001b[0m             \u001b[0mstart\u001b[0m \u001b[0;34m=\u001b[0m \u001b[0mtime\u001b[0m\u001b[0;34m.\u001b[0m\u001b[0mtime\u001b[0m\u001b[0;34m(\u001b[0m\u001b[0;34m)\u001b[0m\u001b[0;34m\u001b[0m\u001b[0;34m\u001b[0m\u001b[0m\n\u001b[0;32m---> 64\u001b[0;31m             data, candidates_support, counts, t4, t5 = itemsets_support(\n\u001b[0m\u001b[1;32m     65\u001b[0m                 \u001b[0mdata\u001b[0m\u001b[0;34m,\u001b[0m \u001b[0mmultiplier_mask_left\u001b[0m\u001b[0;34m,\u001b[0m \u001b[0mmultiplier_mask_right\u001b[0m\u001b[0;34m,\u001b[0m \u001b[0mcounts\u001b[0m\u001b[0;34m,\u001b[0m \u001b[0mt4\u001b[0m\u001b[0;34m,\u001b[0m \u001b[0mt5\u001b[0m\u001b[0;34m\u001b[0m\u001b[0;34m\u001b[0m\u001b[0m\n\u001b[1;32m     66\u001b[0m             )\n",
      "\u001b[0;32m~/Documents/VSE/Programs/pyapriori/pyapriori/utils/utils.py\u001b[0m in \u001b[0;36mitemsets_support\u001b[0;34m(data, multiplier_mask_left, multiplier_mask_right, counts, t4, t5)\u001b[0m\n\u001b[1;32m    216\u001b[0m \u001b[0;34m\u001b[0m\u001b[0m\n\u001b[1;32m    217\u001b[0m     \u001b[0mstart\u001b[0m \u001b[0;34m=\u001b[0m \u001b[0mtime\u001b[0m\u001b[0;34m.\u001b[0m\u001b[0mtime\u001b[0m\u001b[0;34m(\u001b[0m\u001b[0;34m)\u001b[0m\u001b[0;34m\u001b[0m\u001b[0;34m\u001b[0m\u001b[0m\n\u001b[0;32m--> 218\u001b[0;31m     \u001b[0mdata_support\u001b[0m \u001b[0;34m=\u001b[0m \u001b[0mget_support\u001b[0m\u001b[0;34m(\u001b[0m\u001b[0mdata\u001b[0m\u001b[0;34m,\u001b[0m \u001b[0mget_numpy_or_cupy\u001b[0m\u001b[0;34m(\u001b[0m\u001b[0mdata\u001b[0m\u001b[0;34m)\u001b[0m\u001b[0;34m,\u001b[0m \u001b[0mcounts\u001b[0m\u001b[0;34m)\u001b[0m\u001b[0;34m\u001b[0m\u001b[0;34m\u001b[0m\u001b[0m\n\u001b[0m\u001b[1;32m    219\u001b[0m     \u001b[0mend\u001b[0m \u001b[0;34m=\u001b[0m \u001b[0mtime\u001b[0m\u001b[0;34m.\u001b[0m\u001b[0mtime\u001b[0m\u001b[0;34m(\u001b[0m\u001b[0;34m)\u001b[0m\u001b[0;34m\u001b[0m\u001b[0;34m\u001b[0m\u001b[0m\n\u001b[1;32m    220\u001b[0m     \u001b[0mt5\u001b[0m \u001b[0;34m+=\u001b[0m \u001b[0mend\u001b[0m \u001b[0;34m-\u001b[0m \u001b[0mstart\u001b[0m\u001b[0;34m\u001b[0m\u001b[0;34m\u001b[0m\u001b[0m\n",
      "\u001b[0;32m~/Documents/VSE/Programs/pyapriori/pyapriori/utils/utils.py\u001b[0m in \u001b[0;36mget_support\u001b[0;34m(data, numpy_or_cupy, counts)\u001b[0m\n\u001b[1;32m     31\u001b[0m     \"\"\"\n\u001b[1;32m     32\u001b[0m     \u001b[0;32mif\u001b[0m \u001b[0mcounts\u001b[0m \u001b[0;32mis\u001b[0m \u001b[0;32mnot\u001b[0m \u001b[0;32mNone\u001b[0m\u001b[0;34m:\u001b[0m\u001b[0;34m\u001b[0m\u001b[0;34m\u001b[0m\u001b[0m\n\u001b[0;32m---> 33\u001b[0;31m         \u001b[0mdata_support\u001b[0m \u001b[0;34m=\u001b[0m \u001b[0mdata\u001b[0m \u001b[0;34m*\u001b[0m \u001b[0mcounts\u001b[0m\u001b[0;34m[\u001b[0m\u001b[0;34m...\u001b[0m\u001b[0;34m,\u001b[0m \u001b[0;32mNone\u001b[0m\u001b[0;34m]\u001b[0m\u001b[0;34m\u001b[0m\u001b[0;34m\u001b[0m\u001b[0m\n\u001b[0m\u001b[1;32m     34\u001b[0m     \u001b[0;32melse\u001b[0m\u001b[0;34m:\u001b[0m\u001b[0;34m\u001b[0m\u001b[0;34m\u001b[0m\u001b[0m\n\u001b[1;32m     35\u001b[0m         \u001b[0mdata_support\u001b[0m \u001b[0;34m=\u001b[0m \u001b[0mdata\u001b[0m\u001b[0;34m\u001b[0m\u001b[0;34m\u001b[0m\u001b[0m\n",
      "\u001b[0;32m~/anaconda3/envs/pyapriori/lib/python3.9/site-packages/cupyx/scipy/sparse/csr.py\u001b[0m in \u001b[0;36m__mul__\u001b[0;34m(self, other)\u001b[0m\n\u001b[1;32m    213\u001b[0m                 \u001b[0;32mreturn\u001b[0m \u001b[0mcsrmm\u001b[0m\u001b[0;34m(\u001b[0m\u001b[0mself\u001b[0m\u001b[0;34m,\u001b[0m \u001b[0mcupy\u001b[0m\u001b[0;34m.\u001b[0m\u001b[0masfortranarray\u001b[0m\u001b[0;34m(\u001b[0m\u001b[0mother\u001b[0m\u001b[0;34m)\u001b[0m\u001b[0;34m)\u001b[0m\u001b[0;34m\u001b[0m\u001b[0;34m\u001b[0m\u001b[0m\n\u001b[1;32m    214\u001b[0m             \u001b[0;32melse\u001b[0m\u001b[0;34m:\u001b[0m\u001b[0;34m\u001b[0m\u001b[0;34m\u001b[0m\u001b[0m\n\u001b[0;32m--> 215\u001b[0;31m                 \u001b[0;32mraise\u001b[0m \u001b[0mValueError\u001b[0m\u001b[0;34m(\u001b[0m\u001b[0;34m'could not interpret dimensions'\u001b[0m\u001b[0;34m)\u001b[0m\u001b[0;34m\u001b[0m\u001b[0;34m\u001b[0m\u001b[0m\n\u001b[0m\u001b[1;32m    216\u001b[0m         \u001b[0;32melse\u001b[0m\u001b[0;34m:\u001b[0m\u001b[0;34m\u001b[0m\u001b[0;34m\u001b[0m\u001b[0m\n\u001b[1;32m    217\u001b[0m             \u001b[0;32mreturn\u001b[0m \u001b[0mNotImplemented\u001b[0m\u001b[0;34m\u001b[0m\u001b[0;34m\u001b[0m\u001b[0m\n",
      "\u001b[0;31mValueError\u001b[0m: could not interpret dimensions"
     ]
    }
   ],
   "source": [
    "test_result = {}\n",
    "for minsup in supports:\n",
    "    for datafile in datafiles:\n",
    "        print((minsup, datafile))\n",
    "        df, dataset, dataset_csc, dataset_csr_cupy, transactions_count, numpy_array, cupy_array = load_dataset(datafile)\n",
    "        mlxtend_t, mlxtend_count, fim_t, fim_count, apyori_t, apyori_count, pyapriori_t, pyapriori_count, pyapriori_cupy_t, pyapriori_cupy_count, numpy_t, numpy_count, cupy_t, cupy_count = run_models(minsup, df, dataset, dataset_csc, dataset_csr_cupy, transactions_count, numpy_array, cupy_array)\n",
    "        test_result[(minsup, datafile)] = {'mlxtend_t': mlxtend_t, 'mlxtend_count':mlxtend_count, 'fim_t':fim_t, 'fim_count':fim_count, 'apyori_t':apyori_t, 'apyori_count':apyori_count, 'pyapriori_t':pyapriori_t, 'pyapriori_count':pyapriori_count, 'pyapriori_cupy_t':pyapriori_cupy_t, 'pyapriori_cupy_count':pyapriori_cupy_count, 'numpy_t':numpy_t, 'numpy_count':numpy_count, 'cupy_t':cupy_t, 'cupy_count':cupy_count}"
   ]
  },
  {
   "cell_type": "markdown",
   "id": "1e79fd0d",
   "metadata": {},
   "source": [
    "Results"
   ]
  },
  {
   "cell_type": "code",
   "execution_count": null,
   "id": "68a0de1d",
   "metadata": {},
   "outputs": [],
   "source": [
    "test_result"
   ]
  }
 ],
 "metadata": {
  "kernelspec": {
   "display_name": "Python 3 (ipykernel)",
   "language": "python",
   "name": "python3"
  },
  "language_info": {
   "codemirror_mode": {
    "name": "ipython",
    "version": 3
   },
   "file_extension": ".py",
   "mimetype": "text/x-python",
   "name": "python",
   "nbconvert_exporter": "python",
   "pygments_lexer": "ipython3",
   "version": "3.9.7"
  }
 },
 "nbformat": 4,
 "nbformat_minor": 5
}
