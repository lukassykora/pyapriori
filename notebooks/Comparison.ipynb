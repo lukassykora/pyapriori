{
 "cells": [
  {
   "cell_type": "markdown",
   "id": "d1ce34c0",
   "metadata": {},
   "source": [
    "# Compare PyApriori with other Python packages"
   ]
  },
  {
   "cell_type": "markdown",
   "id": "410a748c",
   "metadata": {},
   "source": [
    "Packages:\n",
    "- mlxtend.frequent_patterns.apriori\n",
    "- PyFIM\n",
    "- apyori\n",
    "- pyapriori (this package)"
   ]
  },
  {
   "cell_type": "markdown",
   "id": "f6062071",
   "metadata": {},
   "source": [
    "Data:\n",
    "- accidents\n",
    "- connect\n",
    "- chess\n",
    "- mushroom\n",
    "\n",
    "Source: Frequent Itemset Mining Implementations Repository (http://fimi.uantwerpen.be/data/) "
   ]
  },
  {
   "cell_type": "markdown",
   "id": "d6a30006",
   "metadata": {},
   "source": [
    "## Data Preparation"
   ]
  },
  {
   "cell_type": "code",
   "execution_count": 1,
   "id": "e1a3028a",
   "metadata": {},
   "outputs": [],
   "source": [
    "import pandas as pd\n",
    "import csv\n",
    "from mlxtend.preprocessing import TransactionEncoder\n",
    "from scipy.sparse import csc_matrix\n",
    "from cupyx.scipy.sparse import csr_matrix as csr_matrix_cupy"
   ]
  },
  {
   "cell_type": "markdown",
   "id": "43b1aab7",
   "metadata": {},
   "source": [
    "Load datasets"
   ]
  },
  {
   "cell_type": "code",
   "execution_count": 2,
   "id": "195dee36",
   "metadata": {},
   "outputs": [],
   "source": [
    "def load_dataset(datafile):\n",
    "    dataset = [i.strip().split() for i in open(datafile).readlines()]\n",
    "    # Number of transactions\n",
    "    transactions_count = len(dataset)\n",
    "    # One Hot Encoding\n",
    "    te = TransactionEncoder()\n",
    "    te_dummies = te.fit(dataset).transform(dataset)\n",
    "    # Dataframe with One Hot Encoding\n",
    "    df = pd.DataFrame(te_dummies, columns=te.columns_)\n",
    "    # CSC Matrix with One Hot Encoding\n",
    "    dataset_csc = csc_matrix(te_dummies)\n",
    "    # Cupy CSC Matrix with One Hot Encoding\n",
    "    dataset_csr_cupy = csr_matrix_cupy(dataset_csc)\n",
    "    return df, dataset, dataset_csc, dataset_csr_cupy, transactions_count"
   ]
  },
  {
   "cell_type": "markdown",
   "id": "ceb25713",
   "metadata": {},
   "source": [
    "## Modeling"
   ]
  },
  {
   "cell_type": "code",
   "execution_count": 3,
   "id": "7984b98f",
   "metadata": {},
   "outputs": [],
   "source": [
    "import time\n",
    "from mlxtend.frequent_patterns import apriori as mlxtend_apriori\n",
    "import fim\n",
    "from apyori import apriori as apyori_apriori\n",
    "from pyapriori import PyApriori"
   ]
  },
  {
   "cell_type": "code",
   "execution_count": 4,
   "id": "285df7b2",
   "metadata": {},
   "outputs": [],
   "source": [
    "def run_models(minsup, df, dataset, dataset_csc, dataset_csr_cupy, transactions_count):\n",
    "    try:\n",
    "        start = time.time()\n",
    "        result = mlxtend_apriori(df, min_support=minsup, use_colnames=True)\n",
    "        end = time.time()\n",
    "        mlxtend_t = end - start\n",
    "        mlxtend_count = result.shape[0]\n",
    "    except:\n",
    "        mlxtend_t = None\n",
    "        mlxtend_count = None\n",
    "    \n",
    "    try:\n",
    "        start = time.time()\n",
    "        result = fim.apriori(dataset, supp=minsup)\n",
    "        end = time.time()\n",
    "        fim_t = end - start\n",
    "        fim_count = len(result)  \n",
    "    except:\n",
    "        fim_t = None\n",
    "        fim_count = None \n",
    "    \n",
    "    try:\n",
    "        start = time.time()\n",
    "        result = list(apyori_apriori(dataset, min_support=minsup))\n",
    "        end = time.time()\n",
    "        apyori_t = end - start\n",
    "        apyori_count = len(result)\n",
    "    except:\n",
    "        apyori_t = None\n",
    "        apyori_count = None\n",
    "    \n",
    "    try:\n",
    "        start = time.time()\n",
    "        py_apriori = PyApriori(round(transactions_count * minsup), 1)\n",
    "        _, result = py_apriori.fit(dataset_csc)\n",
    "        end = time.time()\n",
    "        pyapriori_t = end - start\n",
    "        pyapriori_count = len(result)  \n",
    "    except:\n",
    "        pyapriori_t = None\n",
    "        pyapriori_count = None \n",
    "    \n",
    "    try:\n",
    "        start = time.time()\n",
    "        py_apriori = PyApriori(round(transactions_count * minsup), 1)\n",
    "        _, result = py_apriori.fit(dataset_csr_cupy)\n",
    "        end = time.time()\n",
    "        pyapriori_cupy_t = end - start\n",
    "        pyapriori_cupy_count = len(result) \n",
    "    except:\n",
    "        pyapriori_cupy_t = None\n",
    "        pyapriori_cupy_count = None    \n",
    "    \n",
    "    return mlxtend_t, mlxtend_count, fim_t, fim_count, apyori_t, apyori_count, pyapriori_t, pyapriori_count, pyapriori_cupy_t, pyapriori_cupy_count"
   ]
  },
  {
   "cell_type": "markdown",
   "id": "3d265d2f",
   "metadata": {},
   "source": [
    "## Run test"
   ]
  },
  {
   "cell_type": "markdown",
   "id": "aa20897b",
   "metadata": {},
   "source": [
    "Parameters"
   ]
  },
  {
   "cell_type": "code",
   "execution_count": 5,
   "id": "4715ed91",
   "metadata": {},
   "outputs": [],
   "source": [
    "supports = [40, 60, 80]\n",
    "datafiles = ['data/accidents.dat', 'data/connect.dat', 'data/chess.dat', 'data/mushroom.dat']"
   ]
  },
  {
   "cell_type": "markdown",
   "id": "89d07392",
   "metadata": {},
   "source": [
    "Test"
   ]
  },
  {
   "cell_type": "code",
   "execution_count": 6,
   "id": "8ad5c27c",
   "metadata": {},
   "outputs": [
    {
     "name": "stdout",
     "output_type": "stream",
     "text": [
      "(40, 'data/accidents.dat')\n",
      "(40, 'data/connect.dat')\n",
      "(40, 'data/chess.dat')\n",
      "(40, 'data/mushroom.dat')\n",
      "(60, 'data/accidents.dat')\n",
      "(60, 'data/connect.dat')\n",
      "(60, 'data/chess.dat')\n",
      "(60, 'data/mushroom.dat')\n",
      "(80, 'data/accidents.dat')\n",
      "(80, 'data/connect.dat')\n",
      "(80, 'data/chess.dat')\n",
      "(80, 'data/mushroom.dat')\n"
     ]
    }
   ],
   "source": [
    "test_result = {}\n",
    "for minsup in supports:\n",
    "    for datafile in datafiles:\n",
    "        print((minsup, datafile))\n",
    "        df, dataset, dataset_csc, dataset_csc_cupy, transactions_count = load_dataset(datafile)\n",
    "        mlxtend_t, mlxtend_count, fim_t, fim_count, apyori_t, apyori_count, pyapriori_t, pyapriori_count, pyapriori_cupy_t, pyapriori_cupy_count = run_models(minsup, df, dataset, dataset_csc, dataset_csc_cupy, transactions_count)\n",
    "        test_result[(minsup, datafile)] = {'mlxtend_t': mlxtend_t, 'mlxtend_count':mlxtend_count, 'fim_t':fim_t, 'fim_count':fim_count, 'apyori_t':apyori_t, 'apyori_count':apyori_count, 'pyapriori_t':pyapriori_t, 'pyapriori_count':pyapriori_count, 'pyapriori_cupy_t':pyapriori_cupy_t, 'pyapriori_cupy_count':pyapriori_cupy_count}"
   ]
  },
  {
   "cell_type": "markdown",
   "id": "d68ba62d",
   "metadata": {},
   "source": [
    "Results"
   ]
  },
  {
   "cell_type": "code",
   "execution_count": 7,
   "id": "f3b700c3",
   "metadata": {},
   "outputs": [
    {
     "data": {
      "text/plain": [
       "{(40, 'data/accidents.dat'): {'mlxtend_t': 0.18851590156555176,\n",
       "  'mlxtend_count': 0,\n",
       "  'fim_t': 11.40846872329712,\n",
       "  'fim_count': 32528,\n",
       "  'apyori_t': 3.0439038276672363,\n",
       "  'apyori_count': 0,\n",
       "  'pyapriori_t': 0.026928424835205078,\n",
       "  'pyapriori_count': 0,\n",
       "  'pyapriori_cupy_t': None,\n",
       "  'pyapriori_cupy_count': None},\n",
       " (40, 'data/connect.dat'): {'mlxtend_t': 0.014960050582885742,\n",
       "  'mlxtend_count': 0,\n",
       "  'fim_t': 1103.541684627533,\n",
       "  'fim_count': 339915255,\n",
       "  'apyori_t': 296.16862082481384,\n",
       "  'apyori_count': 0,\n",
       "  'pyapriori_t': 0.06981301307678223,\n",
       "  'pyapriori_count': 0,\n",
       "  'pyapriori_cupy_t': None,\n",
       "  'pyapriori_cupy_count': None},\n",
       " (40, 'data/chess.dat'): {'mlxtend_t': 0.1382312774658203,\n",
       "  'mlxtend_count': 0,\n",
       "  'fim_t': 40.5881724357605,\n",
       "  'fim_count': 6439702,\n",
       "  'apyori_t': 0.4807393550872803,\n",
       "  'apyori_count': 0,\n",
       "  'pyapriori_t': 0.000997304916381836,\n",
       "  'pyapriori_count': 0,\n",
       "  'pyapriori_cupy_t': None,\n",
       "  'pyapriori_cupy_count': None},\n",
       " (40, 'data/mushroom.dat'): {'mlxtend_t': 0.0069828033447265625,\n",
       "  'mlxtend_count': 0,\n",
       "  'fim_t': 0.016953468322753906,\n",
       "  'fim_count': 564,\n",
       "  'apyori_t': 0.055850982666015625,\n",
       "  'apyori_count': 0,\n",
       "  'pyapriori_t': 0.0010235309600830078,\n",
       "  'pyapriori_count': 0,\n",
       "  'pyapriori_cupy_t': None,\n",
       "  'pyapriori_cupy_count': None},\n",
       " (60, 'data/accidents.dat'): {'mlxtend_t': 0.18849563598632812,\n",
       "  'mlxtend_count': 0,\n",
       "  'fim_t': 0.9953174591064453,\n",
       "  'fim_count': 2074,\n",
       "  'apyori_t': 3.3443245887756348,\n",
       "  'apyori_count': 0,\n",
       "  'pyapriori_t': 0.017951488494873047,\n",
       "  'pyapriori_count': 0,\n",
       "  'pyapriori_cupy_t': None,\n",
       "  'pyapriori_cupy_count': None},\n",
       " (60, 'data/connect.dat'): {'mlxtend_t': 0.013963460922241211,\n",
       "  'mlxtend_count': 0,\n",
       "  'fim_t': 13.494115114212036,\n",
       "  'fim_count': 21250671,\n",
       "  'apyori_t': 2.3776419162750244,\n",
       "  'apyori_count': 0,\n",
       "  'pyapriori_t': 0.005005836486816406,\n",
       "  'pyapriori_count': 0,\n",
       "  'pyapriori_cupy_t': None,\n",
       "  'pyapriori_cupy_count': None},\n",
       " (60, 'data/chess.dat'): {'mlxtend_t': 0.0029926300048828125,\n",
       "  'mlxtend_count': 0,\n",
       "  'fim_t': 1.0112547874450684,\n",
       "  'fim_count': 254944,\n",
       "  'apyori_t': 0.04091334342956543,\n",
       "  'apyori_count': 0,\n",
       "  'pyapriori_t': 0.0009884834289550781,\n",
       "  'pyapriori_count': 0,\n",
       "  'pyapriori_cupy_t': None,\n",
       "  'pyapriori_cupy_count': None},\n",
       " (60, 'data/mushroom.dat'): {'mlxtend_t': 0.002992391586303711,\n",
       "  'mlxtend_count': 0,\n",
       "  'fim_t': 0.00997304916381836,\n",
       "  'fim_count': 50,\n",
       "  'apyori_t': 0.0478518009185791,\n",
       "  'apyori_count': 0,\n",
       "  'pyapriori_t': 0.0009970664978027344,\n",
       "  'pyapriori_count': 0,\n",
       "  'pyapriori_cupy_t': None,\n",
       "  'pyapriori_cupy_count': None},\n",
       " (80, 'data/accidents.dat'): {'mlxtend_t': 0.18752813339233398,\n",
       "  'mlxtend_count': 0,\n",
       "  'fim_t': 0.7589602470397949,\n",
       "  'fim_count': 149,\n",
       "  'apyori_t': 3.0538132190704346,\n",
       "  'apyori_count': 0,\n",
       "  'pyapriori_t': 0.017951488494873047,\n",
       "  'pyapriori_count': 0,\n",
       "  'pyapriori_cupy_t': None,\n",
       "  'pyapriori_cupy_count': None},\n",
       " (80, 'data/connect.dat'): {'mlxtend_t': 0.012964725494384766,\n",
       "  'mlxtend_count': 0,\n",
       "  'fim_t': 0.4361710548400879,\n",
       "  'fim_count': 533975,\n",
       "  'apyori_t': 0.788909912109375,\n",
       "  'apyori_count': 0,\n",
       "  'pyapriori_t': 0.004986763000488281,\n",
       "  'pyapriori_count': 0,\n",
       "  'pyapriori_cupy_t': None,\n",
       "  'pyapriori_cupy_count': None},\n",
       " (80, 'data/chess.dat'): {'mlxtend_t': 0.0019948482513427734,\n",
       "  'mlxtend_count': 0,\n",
       "  'fim_t': 0.016954660415649414,\n",
       "  'fim_count': 8227,\n",
       "  'apyori_t': 0.029925823211669922,\n",
       "  'apyori_count': 0,\n",
       "  'pyapriori_t': 0.0,\n",
       "  'pyapriori_count': 0,\n",
       "  'pyapriori_cupy_t': None,\n",
       "  'pyapriori_cupy_count': None},\n",
       " (80, 'data/mushroom.dat'): {'mlxtend_t': 0.004019021987915039,\n",
       "  'mlxtend_count': 0,\n",
       "  'fim_t': 0.008966445922851562,\n",
       "  'fim_count': 22,\n",
       "  'apyori_t': 0.04884934425354004,\n",
       "  'apyori_count': 0,\n",
       "  'pyapriori_t': 0.0009975433349609375,\n",
       "  'pyapriori_count': 0,\n",
       "  'pyapriori_cupy_t': None,\n",
       "  'pyapriori_cupy_count': None}}"
      ]
     },
     "execution_count": 7,
     "metadata": {},
     "output_type": "execute_result"
    }
   ],
   "source": [
    "test_result"
   ]
  }
 ],
 "metadata": {
  "kernelspec": {
   "display_name": "Python 3 (ipykernel)",
   "language": "python",
   "name": "python3"
  },
  "language_info": {
   "codemirror_mode": {
    "name": "ipython",
    "version": 3
   },
   "file_extension": ".py",
   "mimetype": "text/x-python",
   "name": "python",
   "nbconvert_exporter": "python",
   "pygments_lexer": "ipython3",
   "version": "3.8.12"
  }
 },
 "nbformat": 4,
 "nbformat_minor": 5
}
