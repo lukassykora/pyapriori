{
 "cells": [
  {
   "cell_type": "markdown",
   "id": "d1ce34c0",
   "metadata": {},
   "source": [
    "# Compare PyApriori with other Python packages"
   ]
  },
  {
   "cell_type": "markdown",
   "id": "410a748c",
   "metadata": {},
   "source": [
    "Packages:\n",
    "- mlxtend.frequent_patterns.apriori\n",
    "- PyFIM\n",
    "- apyori\n",
    "- pyapriori (this package)"
   ]
  },
  {
   "cell_type": "markdown",
   "id": "58ae2da3",
   "metadata": {},
   "source": [
    "Data:\n",
    "- accidents\n",
    "- connect\n",
    "- chess\n",
    "- mushroom\n",
    "\n",
    "Source: Frequent Itemset Mining Implementations Repository (http://fimi.uantwerpen.be/data/) "
   ]
  },
  {
   "cell_type": "markdown",
   "id": "590a7621",
   "metadata": {},
   "source": [
    "## Data Preparation"
   ]
  },
  {
   "cell_type": "code",
   "execution_count": 1,
   "id": "d08f4141",
   "metadata": {},
   "outputs": [],
   "source": [
    "import pandas as pd\n",
    "import numpy as np\n",
    "import csv\n",
    "from mlxtend.preprocessing import TransactionEncoder"
   ]
  },
  {
   "cell_type": "markdown",
   "id": "c473876b",
   "metadata": {},
   "source": [
    "Load datasets"
   ]
  },
  {
   "cell_type": "code",
   "execution_count": 2,
   "id": "cc8f38d0",
   "metadata": {},
   "outputs": [
    {
     "name": "stdout",
     "output_type": "stream",
     "text": [
      "mliko\n",
      "rohliky\n",
      "chleba\n"
     ]
    },
    {
     "data": {
      "text/plain": [
       "array([{0, 2, 3}, {1, 2, 3}, {0, 1, 3}], dtype=object)"
      ]
     },
     "execution_count": 2,
     "metadata": {},
     "output_type": "execute_result"
    }
   ],
   "source": [
    "dataset = [['chleba', 'mliko'], ['chleba', 'rohliky'], ['rohliky', 'mliko'], ['mliko', 'rohliky', 'chleba']]\n",
    "\n",
    "all_features = set()\n",
    "for tr in dataset:\n",
    "    trset = set(tr)\n",
    "    all_features = all_features.union(trset)\n",
    "allf = list(all_features)  \n",
    "\n",
    "data = []\n",
    "for feat in allf:\n",
    "    print(feat)\n",
    "    dataf = []\n",
    "    for i, tr in enumerate(dataset):\n",
    "        if feat in tr:\n",
    "            dataf.append(i)\n",
    "    data.append(set(dataf))\n",
    "data = np.array(data)\n",
    "    \n",
    "data"
   ]
  },
  {
   "cell_type": "code",
   "execution_count": 3,
   "id": "f73d02c9",
   "metadata": {},
   "outputs": [],
   "source": [
    "def load_dataset(datafile):\n",
    "    # pyapriori\n",
    "    dataset = [i.strip().split() for i in open(datafile).readlines()]\n",
    "    all_features = set()\n",
    "    for tr in dataset:\n",
    "        trset = set(tr)\n",
    "        all_features = all_features.union(trset)\n",
    "    allf = list(all_features)  \n",
    "\n",
    "    data = []\n",
    "    for feat in allf:\n",
    "        dataf = []\n",
    "        for i, tr in enumerate(dataset):\n",
    "            if feat in tr:\n",
    "                dataf.append(i)\n",
    "        data.append(set(dataf))\n",
    "    data = np.array(data)\n",
    "    \n",
    "    \n",
    "    #dataset = [i.strip().split() for i in open(datafile).readlines()]\n",
    "    # Number of transactions\n",
    "    transactions_count = len(dataset)\n",
    "    # One Hot Encoding\n",
    "    #te = TransactionEncoder()\n",
    "    #te_dummies = te.fit(dataset).transform(dataset)\n",
    "    # Dataframe with One Hot Encoding\n",
    "    #df = pd.DataFrame(te_dummies, columns=te.columns_)\n",
    "    # CSC Matrix with One Hot Encoding\n",
    "\n",
    "    \n",
    "    \n",
    "    return data, dataset, transactions_count"
   ]
  },
  {
   "cell_type": "markdown",
   "id": "bc5a83fc",
   "metadata": {},
   "source": [
    "## Modeling"
   ]
  },
  {
   "cell_type": "code",
   "execution_count": 4,
   "id": "9b8caed6",
   "metadata": {},
   "outputs": [],
   "source": [
    "import time\n",
    "from mlxtend.frequent_patterns import apriori as mlxtend_apriori\n",
    "import fim\n",
    "from apyori import apriori as apyori_apriori\n",
    "from pyapriori import PyApriori\n",
    "from interruptingcow import timeout\n",
    "from efficient_apriori import apriori as efapriori"
   ]
  },
  {
   "cell_type": "markdown",
   "id": "8caf8b2b",
   "metadata": {},
   "source": [
    "The model fit is killed in 30s."
   ]
  },
  {
   "cell_type": "code",
   "execution_count": 5,
   "id": "0f50ae15",
   "metadata": {},
   "outputs": [],
   "source": [
    "def run_models(minsup, data, dataset, transactions_count):\n",
    "\n",
    "    print(\"\")\n",
    "    print(\"pyapriori\")\n",
    "    try:\n",
    "        start = time.time()\n",
    "        with timeout(30, exception=RuntimeError):\n",
    "            py_apriori = PyApriori(round(transactions_count * (minsup/100)), 1)\n",
    "            _, result = py_apriori.fit(data)\n",
    "        end = time.time()\n",
    "        pyapriori_t = end - start\n",
    "        pyapriori_count = len(result)  \n",
    "    except Exception as inst:\n",
    "        print(inst)\n",
    "        print(inst.args)  \n",
    "        pyapriori_t = None\n",
    "        pyapriori_count = None \n",
    "    print('pyapriori Done in ' + str(pyapriori_t) + 's')    \n",
    "    \n",
    "    print(\"\")\n",
    "    print(\"fim\")\n",
    "    try:\n",
    "        start = time.time()\n",
    "        with timeout(30, exception=RuntimeError):\n",
    "            result = fim.apriori(dataset, supp=minsup)\n",
    "        end = time.time()\n",
    "        fim_t = end - start\n",
    "        fim_count = len(result)  \n",
    "    except Exception as inst:\n",
    "        print(inst)\n",
    "        print(inst.args)  \n",
    "        fim_t = None\n",
    "        fim_count = None \n",
    "    print('fim Done in ' + str(fim_t) + 's')    \n",
    "    \n",
    "    print(\"\")\n",
    "    print(\"apyori\")\n",
    "    try:\n",
    "        #raise NameError('HiThere')\n",
    "        start = time.time()\n",
    "        with timeout(30, exception=RuntimeError):\n",
    "            result = list(apyori_apriori(dataset, min_support=(minsup/100)))\n",
    "        end = time.time()\n",
    "        apyori_t = end - start\n",
    "        apyori_count = len(result)\n",
    "    except Exception as inst:\n",
    "        print(inst)\n",
    "        print(inst.args)  \n",
    "        apyori_t = None\n",
    "        apyori_count = None\n",
    "    print('apyori Done in ' + str(apyori_t) + 's')   \n",
    "    \n",
    "    print(\"\")\n",
    "    print(\"effecient apriori\")\n",
    "    try:\n",
    "        #raise NameError('HiThere')\n",
    "        start = time.time()\n",
    "        with timeout(30, exception=RuntimeError):\n",
    "            result = list(efapriori(dataset, min_support=(minsup/100))[0])\n",
    "        end = time.time()\n",
    "        efapriori_t = end - start\n",
    "        efapriori_count = len(result)\n",
    "    except Exception as inst:\n",
    "        print(inst)\n",
    "        print(inst.args)  \n",
    "        efapriori_t = None\n",
    "        efapriori_count = None\n",
    "    print('efapriori Done in ' + str(apyori_t) + 's')   \n",
    "        \n",
    "    \n",
    "    return fim_t, fim_count, apyori_t, apyori_count, pyapriori_t, pyapriori_count"
   ]
  },
  {
   "cell_type": "markdown",
   "id": "5c0f299b",
   "metadata": {},
   "source": [
    "## Run test"
   ]
  },
  {
   "cell_type": "markdown",
   "id": "e6270d7b",
   "metadata": {},
   "source": [
    "Parameters"
   ]
  },
  {
   "cell_type": "code",
   "execution_count": 6,
   "id": "3f06c251",
   "metadata": {},
   "outputs": [],
   "source": [
    "supports = [20]#,50, 60, 70\n",
    "datafiles = ['data/mushroom.dat'] #'data/accidents.dat', 'data/chess.dat', "
   ]
  },
  {
   "cell_type": "markdown",
   "id": "baed3f1a",
   "metadata": {},
   "source": [
    "Test"
   ]
  },
  {
   "cell_type": "code",
   "execution_count": 7,
   "id": "5e91c107",
   "metadata": {},
   "outputs": [
    {
     "name": "stdout",
     "output_type": "stream",
     "text": [
      "(20, 'data/mushroom.dat')\n",
      "\n",
      "pyapriori\n",
      "time\n",
      "0.003607034683227539\n",
      "0.19685578346252441\n",
      "5.645897150039673\n",
      "1.020545482635498\n",
      "pyapriori Done in 6.8745951652526855s\n",
      "\n",
      "fim\n",
      "fim Done in 0.08940815925598145s\n",
      "\n",
      "apyori\n",
      "\n",
      "()\n",
      "apyori Done in Nones\n",
      "\n",
      "effecient apriori\n",
      "\n",
      "()\n",
      "efapriori Done in Nones\n"
     ]
    }
   ],
   "source": [
    "#import cupy as cp\n",
    "#cp.cuda.set_allocator(cp.cuda.MemoryPool(cp.cuda.malloc_managed).malloc)\n",
    "#cp.cuda.set_allocator(cp.cuda.MemoryPool().malloc)\n",
    "test_result = {}\n",
    "for minsup in supports:\n",
    "    for datafile in datafiles:\n",
    "        print((minsup, datafile))\n",
    "        data, dataset, transactions_count = load_dataset(datafile)\n",
    "        fim_t, fim_count, apyori_t, apyori_count, pyapriori_t, pyapriori_count = run_models(minsup, data, dataset, transactions_count)\n",
    "        test_result[(minsup, datafile)] = {'fim_t':fim_t, 'fim_count':fim_count, 'apyori_t':apyori_t, 'apyori_count':apyori_count, 'pyapriori_t':pyapriori_t, 'pyapriori_count':pyapriori_count }"
   ]
  },
  {
   "cell_type": "markdown",
   "id": "1e79fd0d",
   "metadata": {},
   "source": [
    "Results"
   ]
  },
  {
   "cell_type": "code",
   "execution_count": 8,
   "id": "68a0de1d",
   "metadata": {},
   "outputs": [
    {
     "data": {
      "text/plain": [
       "{(20, 'data/mushroom.dat'): {'fim_t': 0.08940815925598145,\n",
       "  'fim_count': 53582,\n",
       "  'apyori_t': None,\n",
       "  'apyori_count': None,\n",
       "  'pyapriori_t': 6.8745951652526855,\n",
       "  'pyapriori_count': 53583}}"
      ]
     },
     "execution_count": 8,
     "metadata": {},
     "output_type": "execute_result"
    }
   ],
   "source": [
    "test_result"
   ]
  }
 ],
 "metadata": {
  "kernelspec": {
   "display_name": "Python 3 (ipykernel)",
   "language": "python",
   "name": "python3"
  },
  "language_info": {
   "codemirror_mode": {
    "name": "ipython",
    "version": 3
   },
   "file_extension": ".py",
   "mimetype": "text/x-python",
   "name": "python",
   "nbconvert_exporter": "python",
   "pygments_lexer": "ipython3",
   "version": "3.9.7"
  }
 },
 "nbformat": 4,
 "nbformat_minor": 5
}
